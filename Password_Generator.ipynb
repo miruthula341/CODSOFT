{
  "nbformat": 4,
  "nbformat_minor": 0,
  "metadata": {
    "colab": {
      "provenance": [],
      "authorship_tag": "ABX9TyOPjBqY+kXABcxrnx8tflpL",
      "include_colab_link": true
    },
    "kernelspec": {
      "name": "python3",
      "display_name": "Python 3"
    },
    "language_info": {
      "name": "python"
    }
  },
  "cells": [
    {
      "cell_type": "markdown",
      "metadata": {
        "id": "view-in-github",
        "colab_type": "text"
      },
      "source": [
        "<a href=\"https://colab.research.google.com/github/miruthula341/CODSOFT/blob/main/Password_Generator.ipynb\" target=\"_parent\"><img src=\"https://colab.research.google.com/assets/colab-badge.svg\" alt=\"Open In Colab\"/></a>"
      ]
    },
    {
      "cell_type": "code",
      "execution_count": 3,
      "metadata": {
        "colab": {
          "base_uri": "https://localhost:8080/"
        },
        "id": "UOLZqU2Lu8qk",
        "outputId": "28e02738-0274-4975-a335-bda1778334da"
      },
      "outputs": [
        {
          "output_type": "stream",
          "name": "stdout",
          "text": [
            "Simple Password Generator\n",
            "Enter the desired password length: 9\n",
            "Generated Password: 5@odfEW*6\n"
          ]
        }
      ],
      "source": [
        "import random\n",
        "\n",
        "def generate_password(length):\n",
        "    lowercase = 'abcdefghijklmnopqrstuvwxyz'\n",
        "    uppercase = 'ABCDEFGHIJKLMNOPQRSTUVWXYZ'\n",
        "    digits = '0123456789'\n",
        "    symbols = '!@#$%^&*()'\n",
        "\n",
        "    all_characters = lowercase + uppercase + digits + symbols\n",
        "\n",
        "    password = ''\n",
        "    for _ in range(length):\n",
        "        password += random.choice(all_characters)\n",
        "\n",
        "    return password\n",
        "\n",
        "def main():\n",
        "    print(\"Simple Password Generator\")\n",
        "    try:\n",
        "        length = int(input(\"Enter the desired password length: \"))\n",
        "        if length <= 0:\n",
        "            print(\"Please enter a number greater than 0.\")\n",
        "        else:\n",
        "            password = generate_password(length)\n",
        "            print(\"Generated Password:\", password)\n",
        "    except ValueError:\n",
        "        print(\"Invalid input. Please enter a number.\")\n",
        "\n",
        "main()\n"
      ]
    }
  ]
}