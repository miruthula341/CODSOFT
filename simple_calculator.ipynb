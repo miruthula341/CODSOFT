{
  "nbformat": 4,
  "nbformat_minor": 0,
  "metadata": {
    "colab": {
      "provenance": [],
      "authorship_tag": "ABX9TyOIEPO6A2ldTM3A+nt5cLb1",
      "include_colab_link": true
    },
    "kernelspec": {
      "name": "python3",
      "display_name": "Python 3"
    },
    "language_info": {
      "name": "python"
    }
  },
  "cells": [
    {
      "cell_type": "markdown",
      "metadata": {
        "id": "view-in-github",
        "colab_type": "text"
      },
      "source": [
        "<a href=\"https://colab.research.google.com/github/miruthula341/CODSOFT/blob/main/simple_calculator.ipynb\" target=\"_parent\"><img src=\"https://colab.research.google.com/assets/colab-badge.svg\" alt=\"Open In Colab\"/></a>"
      ]
    },
    {
      "cell_type": "code",
      "execution_count": 2,
      "metadata": {
        "colab": {
          "base_uri": "https://localhost:8080/"
        },
        "id": "wZxZAgLGqPVV",
        "outputId": "a4d152de-86e5-4567-981b-9744391d97e6"
      },
      "outputs": [
        {
          "output_type": "stream",
          "name": "stdout",
          "text": [
            "Simple Calculator: +, -, *, /\n",
            "Enter first number: 10\n",
            "Enter second number: 25\n",
            "Enter operation (+, -, *, /): *\n",
            "Result: 250.0\n"
          ]
        }
      ],
      "source": [
        "def calculator():\n",
        "    print(\"Simple Calculator: +, -, *, /\")\n",
        "    num1 = float(input(\"Enter first number: \"))\n",
        "    num2 = float(input(\"Enter second number: \"))\n",
        "    operation = input(\"Enter operation (+, -, *, /): \")\n",
        "\n",
        "    if operation == \"+\":\n",
        "        result = num1 + num2\n",
        "    elif operation == \"-\":\n",
        "        result = num1 - num2\n",
        "    elif operation == \"*\":\n",
        "        result = num1 * num2\n",
        "    elif operation == \"/\":\n",
        "        result = num1 / num2 if num2 != 0 else \"Error: Division by zero\"\n",
        "    else:\n",
        "        result = \"Invalid operation!\"\n",
        "\n",
        "    print(f\"Result: {result}\")\n",
        "\n",
        "calculator()"
      ]
    }
  ]
}