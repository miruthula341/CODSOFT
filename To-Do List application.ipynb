{
  "nbformat": 4,
  "nbformat_minor": 0,
  "metadata": {
    "colab": {
      "provenance": [],
      "authorship_tag": "ABX9TyMJpG8xXQki/ehgm8reincA",
      "include_colab_link": true
    },
    "kernelspec": {
      "name": "python3",
      "display_name": "Python 3"
    },
    "language_info": {
      "name": "python"
    }
  },
  "cells": [
    {
      "cell_type": "markdown",
      "metadata": {
        "id": "view-in-github",
        "colab_type": "text"
      },
      "source": [
        "<a href=\"https://colab.research.google.com/github/miruthula341/CODSOFT/blob/main/To-Do%20List%20application.ipynb\" target=\"_parent\"><img src=\"https://colab.research.google.com/assets/colab-badge.svg\" alt=\"Open In Colab\"/></a>"
      ]
    },
    {
      "cell_type": "code",
      "execution_count": 1,
      "metadata": {
        "id": "UVXPXj6zrNPL"
      },
      "outputs": [],
      "source": [
        "tasks = []\n",
        "\n",
        "def show_tasks():\n",
        "    if not tasks:\n",
        "        print(\"\\nNo tasks found!\")\n",
        "    else:\n",
        "        print(\"\\nTo-Do List:\")\n",
        "        for i, task in enumerate(tasks, 1):\n",
        "            print(f\"{i}. {task}\")"
      ]
    },
    {
      "cell_type": "code",
      "source": [
        "def add_task():\n",
        "    task = input(\"\\nEnter task: \")\n",
        "    tasks.append(task)\n",
        "    print(\"Task added!\")\n",
        "\n",
        "def delete_task():\n",
        "    show_tasks()\n",
        "    try:\n",
        "        num = int(input(\"\\nEnter task number to delete: \"))\n",
        "        if 1 <= num <= len(tasks):\n",
        "            removed = tasks.pop(num - 1)\n",
        "            print(f\"Deleted task: {removed}\")\n",
        "        else:\n",
        "            print(\"Invalid task number!\")\n",
        "    except ValueError:\n",
        "        print(\"Invalid input! Enter a number.\")\n",
        "\n",
        "while True:\n",
        "    print(\"\\n1. Add Task | 2. View Tasks | 3. Delete Task | 4. Exit\")\n",
        "    choice = input(\"Choose an option: \")\n",
        "\n",
        "    if choice == \"1\":\n",
        "        add_task()\n",
        "    elif choice == \"2\":\n",
        "        show_tasks()\n",
        "    elif choice == \"3\":\n",
        "        delete_task()\n",
        "    elif choice == \"4\":\n",
        "        print(\"Exiting...\")\n",
        "        break\n",
        "    else:\n",
        "        print(\"Invalid choice! Try again.\")"
      ],
      "metadata": {
        "colab": {
          "base_uri": "https://localhost:8080/"
        },
        "id": "_oICYBSqrbyH",
        "outputId": "6a74f456-2e83-4e6b-fb47-13db96f203a2"
      },
      "execution_count": 2,
      "outputs": [
        {
          "output_type": "stream",
          "name": "stdout",
          "text": [
            "\n",
            "1. Add Task | 2. View Tasks | 3. Delete Task | 4. Exit\n",
            "Choose an option: 1\n",
            "\n",
            "Enter task: Morning Exercise\n",
            "Task added!\n",
            "\n",
            "1. Add Task | 2. View Tasks | 3. Delete Task | 4. Exit\n",
            "Choose an option: 1\n",
            "\n",
            "Enter task: walking\n",
            "Task added!\n",
            "\n",
            "1. Add Task | 2. View Tasks | 3. Delete Task | 4. Exit\n",
            "Choose an option: office\n",
            "Invalid choice! Try again.\n",
            "\n",
            "1. Add Task | 2. View Tasks | 3. Delete Task | 4. Exit\n",
            "Choose an option: 1\n",
            "\n",
            "Enter task: office\n",
            "Task added!\n",
            "\n",
            "1. Add Task | 2. View Tasks | 3. Delete Task | 4. Exit\n",
            "Choose an option: 2\n",
            "\n",
            "To-Do List:\n",
            "1. Morning Exercise\n",
            "2. walking\n",
            "3. office\n",
            "\n",
            "1. Add Task | 2. View Tasks | 3. Delete Task | 4. Exit\n",
            "Choose an option: 3\n",
            "\n",
            "To-Do List:\n",
            "1. Morning Exercise\n",
            "2. walking\n",
            "3. office\n",
            "\n",
            "Enter task number to delete: morning exercise\n",
            "Invalid input! Enter a number.\n",
            "\n",
            "1. Add Task | 2. View Tasks | 3. Delete Task | 4. Exit\n",
            "Choose an option: 4\n",
            "Exiting...\n"
          ]
        }
      ]
    }
  ]
}